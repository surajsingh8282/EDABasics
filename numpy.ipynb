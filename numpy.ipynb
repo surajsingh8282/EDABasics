{
 "cells": [
  {
   "cell_type": "code",
   "execution_count": 1,
   "id": "bca1f0e2-6b3e-4cde-908e-3b12f90f69e2",
   "metadata": {},
   "outputs": [
    {
     "name": "stdout",
     "output_type": "stream",
     "text": [
      "[1 2 3]\n"
     ]
    }
   ],
   "source": [
    "import numpy as np\n",
    "\n",
    "arr = np.array([1, 2, 3])\n",
    "print(arr)\n"
   ]
  },
  {
   "cell_type": "code",
   "execution_count": 2,
   "id": "764dbbed-5238-4dca-9407-a13fd5053931",
   "metadata": {},
   "outputs": [
    {
     "name": "stdout",
     "output_type": "stream",
     "text": [
      "[[0. 0. 0.]\n",
      " [0. 0. 0.]]\n"
     ]
    }
   ],
   "source": [
    "zeros_array = np.zeros((2, 3))\n",
    "print(zeros_array)\n"
   ]
  },
  {
   "cell_type": "code",
   "execution_count": 3,
   "id": "b8af7d6c-3137-4d5e-a50e-8d46aa9d4e8c",
   "metadata": {},
   "outputs": [
    {
     "name": "stdout",
     "output_type": "stream",
     "text": [
      "[[1. 1. 1.]\n",
      " [1. 1. 1.]]\n"
     ]
    }
   ],
   "source": [
    "ones_array = np.ones((2, 3))\n",
    "print(ones_array)\n"
   ]
  },
  {
   "cell_type": "code",
   "execution_count": 4,
   "id": "fa863671-6bac-4bae-9234-40a538f5355c",
   "metadata": {},
   "outputs": [
    {
     "name": "stdout",
     "output_type": "stream",
     "text": [
      "[0 2 4 6 8]\n"
     ]
    }
   ],
   "source": [
    "range_array = np.arange(0, 10, 2)\n",
    "print(range_array)\n"
   ]
  },
  {
   "cell_type": "code",
   "execution_count": 5,
   "id": "f66d9466-3081-439a-8b97-0e2872ffd124",
   "metadata": {},
   "outputs": [
    {
     "name": "stdout",
     "output_type": "stream",
     "text": [
      "[0.   0.25 0.5  0.75 1.  ]\n"
     ]
    }
   ],
   "source": [
    "linspace_array = np.linspace(0, 1, 5)\n",
    "print(linspace_array)\n"
   ]
  },
  {
   "cell_type": "code",
   "execution_count": 6,
   "id": "5cd68015-3b64-4b6d-8f98-1cbc050faa0b",
   "metadata": {},
   "outputs": [
    {
     "name": "stdout",
     "output_type": "stream",
     "text": [
      "[[1. 0. 0.]\n",
      " [0. 1. 0.]\n",
      " [0. 0. 1.]]\n"
     ]
    }
   ],
   "source": [
    "identity_matrix = np.eye(3)\n",
    "print(identity_matrix)\n"
   ]
  },
  {
   "cell_type": "code",
   "execution_count": 7,
   "id": "fd7a9198-ae66-4286-810b-7c4cd04f2683",
   "metadata": {},
   "outputs": [
    {
     "name": "stdout",
     "output_type": "stream",
     "text": [
      "[[0 1 2 3]\n",
      " [4 5 6 7]]\n"
     ]
    }
   ],
   "source": [
    "reshaped_array = np.reshape(np.arange(8), (2, 4))\n",
    "print(reshaped_array)\n"
   ]
  },
  {
   "cell_type": "code",
   "execution_count": 8,
   "id": "7ba89805-32c1-4276-affa-b525cd8ac942",
   "metadata": {},
   "outputs": [
    {
     "name": "stdout",
     "output_type": "stream",
     "text": [
      "[0 1 2 3 4 5 6 7]\n"
     ]
    }
   ],
   "source": [
    "flattened_array = np.ravel(reshaped_array)\n",
    "print(flattened_array)\n"
   ]
  },
  {
   "cell_type": "code",
   "execution_count": 9,
   "id": "0704813f-0583-43b2-b2b7-f09baa2ca76e",
   "metadata": {},
   "outputs": [
    {
     "name": "stdout",
     "output_type": "stream",
     "text": [
      "[[0 4]\n",
      " [1 5]\n",
      " [2 6]\n",
      " [3 7]]\n"
     ]
    }
   ],
   "source": [
    "transposed_array = np.transpose(reshaped_array)\n",
    "print(transposed_array)\n"
   ]
  },
  {
   "cell_type": "code",
   "execution_count": 10,
   "id": "88376785-7f6b-42c8-905e-4a42d49356a6",
   "metadata": {},
   "outputs": [
    {
     "name": "stdout",
     "output_type": "stream",
     "text": [
      "[[1 2]\n",
      " [3 4]\n",
      " [5 6]]\n"
     ]
    }
   ],
   "source": [
    "array1 = np.array([[1, 2], [3, 4]])\n",
    "array2 = np.array([[5, 6]])\n",
    "concatenated_array = np.concatenate((array1, array2), axis=0)\n",
    "print(concatenated_array)\n"
   ]
  },
  {
   "cell_type": "code",
   "execution_count": 11,
   "id": "fca4e9a4-25fa-4234-8ab2-a6de451e8ca9",
   "metadata": {},
   "outputs": [
    {
     "name": "stdout",
     "output_type": "stream",
     "text": [
      "[4 6]\n"
     ]
    }
   ],
   "source": [
    "a = np.array([1, 2])\n",
    "b = np.array([3, 4])\n",
    "sum_array = np.add(a, b)\n",
    "print(sum_array)\n"
   ]
  },
  {
   "cell_type": "code",
   "execution_count": 12,
   "id": "8952cc24-632e-4832-84ba-3af66f2e9954",
   "metadata": {},
   "outputs": [
    {
     "name": "stdout",
     "output_type": "stream",
     "text": [
      "[-2 -2]\n"
     ]
    }
   ],
   "source": [
    "diff_array = np.subtract(a, b)\n",
    "print(diff_array)\n"
   ]
  },
  {
   "cell_type": "code",
   "execution_count": 13,
   "id": "ad150d92-9606-41ae-8330-14b4ff7df3cf",
   "metadata": {},
   "outputs": [
    {
     "name": "stdout",
     "output_type": "stream",
     "text": [
      "[3 8]\n"
     ]
    }
   ],
   "source": [
    "prod_array = np.multiply(a, b)\n",
    "print(prod_array)\n"
   ]
  },
  {
   "cell_type": "code",
   "execution_count": 14,
   "id": "aad81f21-6bab-4aef-bf62-26182a64e1c9",
   "metadata": {},
   "outputs": [
    {
     "name": "stdout",
     "output_type": "stream",
     "text": [
      "[0.33333333 0.5       ]\n"
     ]
    }
   ],
   "source": [
    "div_array = np.divide(a, b)\n",
    "print(div_array)\n"
   ]
  },
  {
   "cell_type": "code",
   "execution_count": 15,
   "id": "c1d6a8c6-5b0b-42a8-9271-023df5210859",
   "metadata": {},
   "outputs": [
    {
     "name": "stdout",
     "output_type": "stream",
     "text": [
      "11\n"
     ]
    }
   ],
   "source": [
    "dot_product = np.dot(a, b)\n",
    "print(dot_product)\n"
   ]
  },
  {
   "cell_type": "code",
   "execution_count": 16,
   "id": "cd0b8b33-b521-4f14-97e0-22bc24088e84",
   "metadata": {},
   "outputs": [
    {
     "name": "stdout",
     "output_type": "stream",
     "text": [
      "[1.         1.41421356]\n"
     ]
    }
   ],
   "source": [
    "sqrt_array = np.sqrt(a)\n",
    "print(sqrt_array)\n"
   ]
  },
  {
   "cell_type": "code",
   "execution_count": 17,
   "id": "f5b4cf78-1c1f-4ccc-9268-4a40dcfa93ac",
   "metadata": {},
   "outputs": [
    {
     "name": "stdout",
     "output_type": "stream",
     "text": [
      "[2.71828183 7.3890561 ]\n"
     ]
    }
   ],
   "source": [
    "exp_array = np.exp(a)\n",
    "print(exp_array)\n"
   ]
  },
  {
   "cell_type": "code",
   "execution_count": 18,
   "id": "7f61b453-e4a8-4e5d-b7a0-eafdd98ebf18",
   "metadata": {},
   "outputs": [
    {
     "name": "stdout",
     "output_type": "stream",
     "text": [
      "2.0\n"
     ]
    }
   ],
   "source": [
    "mean_value = np.mean(arr)\n",
    "print(mean_value)\n"
   ]
  },
  {
   "cell_type": "code",
   "execution_count": 19,
   "id": "d5f44a93-0120-443e-9c1c-e2c66841840b",
   "metadata": {},
   "outputs": [
    {
     "name": "stdout",
     "output_type": "stream",
     "text": [
      "2.0\n"
     ]
    }
   ],
   "source": [
    "median_value = np.median(arr)\n",
    "print(median_value)\n"
   ]
  },
  {
   "cell_type": "code",
   "execution_count": 20,
   "id": "15cdf7cb-d8f8-4976-b489-b24cebd3bcf0",
   "metadata": {},
   "outputs": [
    {
     "name": "stdout",
     "output_type": "stream",
     "text": [
      "0.816496580927726\n"
     ]
    }
   ],
   "source": [
    "std_value = np.std(arr)\n",
    "print(std_value)\n"
   ]
  },
  {
   "cell_type": "code",
   "execution_count": 21,
   "id": "518acd4a-49e3-4702-b43d-b477bae50202",
   "metadata": {},
   "outputs": [
    {
     "name": "stdout",
     "output_type": "stream",
     "text": [
      "0.6666666666666666\n"
     ]
    }
   ],
   "source": [
    "var_value = np.var(arr)\n",
    "print(var_value)\n"
   ]
  },
  {
   "cell_type": "code",
   "execution_count": 22,
   "id": "0d87bb41-6317-48fe-8df4-0d49a85345d2",
   "metadata": {},
   "outputs": [
    {
     "name": "stdout",
     "output_type": "stream",
     "text": [
      "[[0.77833748 0.81946449 0.11424832]\n",
      " [0.27102153 0.92175052 0.17423512]]\n"
     ]
    }
   ],
   "source": [
    "random_array = np.random.rand(2, 3)\n",
    "print(random_array)\n"
   ]
  },
  {
   "cell_type": "code",
   "execution_count": 23,
   "id": "f52d9671-a177-48ad-840b-414509849539",
   "metadata": {},
   "outputs": [
    {
     "name": "stdout",
     "output_type": "stream",
     "text": [
      "[[-0.95016017  1.35834371  1.51435271]\n",
      " [ 0.85465728  0.26458779 -0.96123529]]\n"
     ]
    }
   ],
   "source": [
    "random_normal_array = np.random.randn(2, 3)\n",
    "print(random_normal_array)\n"
   ]
  },
  {
   "cell_type": "code",
   "execution_count": 24,
   "id": "5e08f2ee-606f-458c-8a31-9651de59f286",
   "metadata": {},
   "outputs": [
    {
     "name": "stdout",
     "output_type": "stream",
     "text": [
      "[[1 7 3]\n",
      " [2 0 2]]\n"
     ]
    }
   ],
   "source": [
    "random_integers = np.random.randint(0, 10, (2, 3))\n",
    "print(random_integers)\n"
   ]
  },
  {
   "cell_type": "code",
   "execution_count": 25,
   "id": "fcd5a848-1a23-4a30-9f78-8bb10f91971e",
   "metadata": {},
   "outputs": [
    {
     "name": "stdout",
     "output_type": "stream",
     "text": [
      "2\n"
     ]
    }
   ],
   "source": [
    "element = arr[1]\n",
    "print(element)\n"
   ]
  },
  {
   "cell_type": "code",
   "execution_count": 26,
   "id": "e51c5f96-73a5-40b3-8c87-ef724c7ecafd",
   "metadata": {},
   "outputs": [
    {
     "name": "stdout",
     "output_type": "stream",
     "text": [
      "[1 2]\n"
     ]
    }
   ],
   "source": [
    "sub_array = arr[0:2]\n",
    "print(sub_array)\n"
   ]
  },
  {
   "cell_type": "code",
   "execution_count": 27,
   "id": "5dbbf90a-be2d-42f8-be83-b672b64f657e",
   "metadata": {},
   "outputs": [
    {
     "name": "stdout",
     "output_type": "stream",
     "text": [
      "[2 3]\n"
     ]
    }
   ],
   "source": [
    "bool_index_array = arr[arr > 1]\n",
    "print(bool_index_array)\n"
   ]
  },
  {
   "cell_type": "code",
   "execution_count": 28,
   "id": "2b11b1d7-b83e-4bdd-8274-5771edc646dd",
   "metadata": {},
   "outputs": [
    {
     "name": "stdout",
     "output_type": "stream",
     "text": [
      "[[-2.   1. ]\n",
      " [ 1.5 -0.5]]\n"
     ]
    }
   ],
   "source": [
    "matrix = np.array([[1, 2], [3, 4]])\n",
    "inv_matrix = np.linalg.inv(matrix)\n",
    "print(inv_matrix)\n"
   ]
  },
  {
   "cell_type": "code",
   "execution_count": 29,
   "id": "0acf5516-536f-4c04-b071-6a02cd732300",
   "metadata": {},
   "outputs": [
    {
     "name": "stdout",
     "output_type": "stream",
     "text": [
      "[-0.37228132  5.37228132]\n",
      "[[-0.82456484 -0.41597356]\n",
      " [ 0.56576746 -0.90937671]]\n"
     ]
    }
   ],
   "source": [
    "eigvals, eigvecs = np.linalg.eig(matrix)\n",
    "print(eigvals)\n",
    "print(eigvecs)\n"
   ]
  },
  {
   "cell_type": "code",
   "execution_count": null,
   "id": "d38c6532-ce5a-45a0-aa27-24a8c6d8a666",
   "metadata": {},
   "outputs": [],
   "source": []
  }
 ],
 "metadata": {
  "kernelspec": {
   "display_name": "Python 3 (ipykernel)",
   "language": "python",
   "name": "python3"
  },
  "language_info": {
   "codemirror_mode": {
    "name": "ipython",
    "version": 3
   },
   "file_extension": ".py",
   "mimetype": "text/x-python",
   "name": "python",
   "nbconvert_exporter": "python",
   "pygments_lexer": "ipython3",
   "version": "3.12.4"
  }
 },
 "nbformat": 4,
 "nbformat_minor": 5
}
